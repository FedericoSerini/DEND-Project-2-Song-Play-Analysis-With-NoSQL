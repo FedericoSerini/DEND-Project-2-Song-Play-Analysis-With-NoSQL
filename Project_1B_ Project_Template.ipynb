{
 "cells": [
  {
   "cell_type": "markdown",
   "metadata": {},
   "source": [
    "# Part I. ETL Pipeline for Pre-Processing the Files"
   ]
  },
  {
   "cell_type": "markdown",
   "metadata": {},
   "source": [
    "## PLEASE RUN THE FOLLOWING CODE FOR PRE-PROCESSING THE FILES"
   ]
  },
  {
   "cell_type": "markdown",
   "metadata": {},
   "source": [
    "#### Import Python packages "
   ]
  },
  {
   "cell_type": "code",
   "execution_count": 1,
   "metadata": {},
   "outputs": [],
   "source": [
    "# Import Python packages \n",
    "import pandas as pd\n",
    "import cassandra\n",
    "import re\n",
    "import os\n",
    "import glob\n",
    "import numpy as np\n",
    "import json\n",
    "import csv"
   ]
  },
  {
   "cell_type": "markdown",
   "metadata": {},
   "source": [
    "#### Creating list of filepaths to process original event csv data files"
   ]
  },
  {
   "cell_type": "code",
   "execution_count": 2,
   "metadata": {},
   "outputs": [
    {
     "name": "stdout",
     "output_type": "stream",
     "text": [
      "/home/workspace\n"
     ]
    }
   ],
   "source": [
    "# checking your current working directory\n",
    "print(os.getcwd())\n",
    "\n",
    "# Get your current folder and subfolder event data\n",
    "filepath = os.getcwd() + '/event_data'\n",
    "\n",
    "# Create a for loop to create a list of files and collect each filepath\n",
    "for root, dirs, files in os.walk(filepath):\n",
    "    \n",
    "# join the file path and roots with the subdirectories using glob\n",
    "    file_path_list = glob.glob(os.path.join(root,'*'))\n",
    "    #print(file_path_list)"
   ]
  },
  {
   "cell_type": "markdown",
   "metadata": {},
   "source": [
    "#### Processing the files to create the data file csv that will be used for Apache Casssandra tables"
   ]
  },
  {
   "cell_type": "code",
   "execution_count": 3,
   "metadata": {},
   "outputs": [],
   "source": [
    "# initiating an empty list of rows that will be generated from each file\n",
    "full_data_rows_list = [] \n",
    "    \n",
    "# for every filepath in the file path list \n",
    "for f in file_path_list:\n",
    "\n",
    "# reading csv file \n",
    "    with open(f, 'r', encoding = 'utf8', newline='') as csvfile: \n",
    "        # creating a csv reader object \n",
    "        csvreader = csv.reader(csvfile) \n",
    "        next(csvreader)\n",
    "        \n",
    " # extracting each data row one by one and append it        \n",
    "        for line in csvreader:\n",
    "            #print(line)\n",
    "            full_data_rows_list.append(line) \n",
    "            \n",
    "# uncomment the code below if you would like to get total number of rows \n",
    "#print(len(full_data_rows_list))\n",
    "# uncomment the code below if you would like to check to see what the list of event data rows will look like\n",
    "#print(full_data_rows_list)\n",
    "\n",
    "# creating a smaller event data csv file called event_datafile_full csv that will be used to insert data into the \\\n",
    "# Apache Cassandra tables\n",
    "csv.register_dialect('myDialect', quoting=csv.QUOTE_ALL, skipinitialspace=True)\n",
    "\n",
    "with open('event_datafile_new.csv', 'w', encoding = 'utf8', newline='') as f:\n",
    "    writer = csv.writer(f, dialect='myDialect')\n",
    "    writer.writerow(['artist','firstName','gender','itemInSession','lastName','length',\\\n",
    "                'level','location','sessionId','song','userId'])\n",
    "    for row in full_data_rows_list:\n",
    "        if (row[0] == ''):\n",
    "            continue\n",
    "        writer.writerow((row[0], row[2], row[3], row[4], row[5], row[6], row[7], row[8], row[12], row[13], row[16]))\n"
   ]
  },
  {
   "cell_type": "code",
   "execution_count": 4,
   "metadata": {},
   "outputs": [
    {
     "name": "stdout",
     "output_type": "stream",
     "text": [
      "6821\n"
     ]
    }
   ],
   "source": [
    "# check the number of rows in your csv file\n",
    "with open('event_datafile_new.csv', 'r', encoding = 'utf8') as f:\n",
    "    print(sum(1 for line in f))"
   ]
  },
  {
   "cell_type": "markdown",
   "metadata": {},
   "source": [
    "# Part II. Complete the Apache Cassandra coding portion of your project. \n",
    "\n",
    "## Now you are ready to work with the CSV file titled <font color=red>event_datafile_new.csv</font>, located within the Workspace directory.  The event_datafile_new.csv contains the following columns: \n",
    "- artist \n",
    "- firstName of user\n",
    "- gender of user\n",
    "- item number in session\n",
    "- last name of user\n",
    "- length of the song\n",
    "- level (paid or free song)\n",
    "- location of the user\n",
    "- sessionId\n",
    "- song title\n",
    "- userId\n",
    "\n",
    "The image below is a screenshot of what the denormalized data should appear like in the <font color=red>**event_datafile_new.csv**</font> after the code above is run:<br>\n",
    "\n",
    "<img src=\"images/image_event_datafile_new.jpg\">"
   ]
  },
  {
   "cell_type": "markdown",
   "metadata": {},
   "source": [
    "## Begin writing your Apache Cassandra code in the cells below"
   ]
  },
  {
   "cell_type": "markdown",
   "metadata": {},
   "source": [
    "#### Creating a Cluster"
   ]
  },
  {
   "cell_type": "code",
   "execution_count": 5,
   "metadata": {},
   "outputs": [],
   "source": [
    "# This should make a connection to a Cassandra instance your local machine \n",
    "# (127.0.0.1)\n",
    "\n",
    "from cassandra.cluster import Cluster\n",
    "cluster = Cluster()\n",
    "\n",
    "# To establish connection and begin executing queries, need a session\n",
    "session = cluster.connect()"
   ]
  },
  {
   "cell_type": "markdown",
   "metadata": {},
   "source": [
    "#### Create Keyspace"
   ]
  },
  {
   "cell_type": "code",
   "execution_count": 6,
   "metadata": {},
   "outputs": [],
   "source": [
    "create_keyspace_command = \"\"\"CREATE KEYSPACE IF NOT EXISTS sparkify\n",
    "                             WITH REPLICATION = { 'class' : 'SimpleStrategy', 'replication_factor' : 1 }\"\"\"\n",
    "\n",
    "try:\n",
    "    session.execute(create_keyspace_command)\n",
    "except Exception as e:\n",
    "    print(e)"
   ]
  },
  {
   "cell_type": "markdown",
   "metadata": {},
   "source": [
    "#### Set Keyspace"
   ]
  },
  {
   "cell_type": "code",
   "execution_count": 7,
   "metadata": {},
   "outputs": [],
   "source": [
    "# Set KEYSPACE to the keyspace specified above\n",
    "set_keyspace_command = \"USE sparkify\"\n",
    "\n",
    "try:\n",
    "    session.execute(set_keyspace_command)\n",
    "except Exception as e:\n",
    "    print(e)\n"
   ]
  },
  {
   "cell_type": "markdown",
   "metadata": {},
   "source": [
    "### Now we need to create tables to run the following queries. Remember, with Apache Cassandra you model the database tables on the queries you want to run."
   ]
  },
  {
   "cell_type": "markdown",
   "metadata": {},
   "source": [
    "## Create queries to ask the following three questions of the data\n",
    "\n",
    "### 1. Give me the artist, song title and song's length in the music app history that was heard during  sessionId = 338, and itemInSession  = 4\n",
    "\n",
    "\n",
    "### 2. Give me only the following: name of artist, song (sorted by itemInSession) and user (first and last name) for userid = 10, sessionid = 182\n",
    "    \n",
    "\n",
    "### 3. Give me every user name (first and last) in my music app history who listened to the song 'All Hands Against His Own'\n",
    "\n",
    "\n"
   ]
  },
  {
   "cell_type": "code",
   "execution_count": 8,
   "metadata": {},
   "outputs": [],
   "source": [
    "## Query 1:  Give me the artist, song title and song's length in the music app history that was heard during \\\n",
    "## sessionId = 338, and itemInSession = 4\n",
    "\n",
    "create_statement =  \"\"\"CREATE TABLE IF NOT EXISTS song_data_by_session (artist_name TEXT,\n",
    "        user_first_name TEXT,\n",
    "        gender TEXT,\n",
    "        session_item_number INT,\n",
    "        user_last_name TEXT,\n",
    "        song_length DOUBLE,\n",
    "        account_level TEXT,\n",
    "        user_location TEXT,\n",
    "        session_id INT,\n",
    "        song_title TEXT,\n",
    "        user_id INT,\n",
    "        PRIMARY KEY ((session_id, session_item_number))) \"\"\"\n",
    "session.execute(create_statement)\n",
    "\n",
    "select_statement = \"SELECT artist_name, song_title, song_length FROM song_data_by_session WHERE session_id = %s AND session_item_number =  %s\"\n",
    "                    "
   ]
  },
  {
   "cell_type": "code",
   "execution_count": 9,
   "metadata": {
    "scrolled": false
   },
   "outputs": [],
   "source": [
    "# We have provided part of the code to set up the CSV file. Please complete the Apache Cassandra code below#\n",
    "file = 'event_datafile_new.csv'\n",
    "\n",
    "with open(file, encoding = 'utf8') as f:\n",
    "    csvreader = csv.reader(f)\n",
    "    next(csvreader) # skip header\n",
    "    for line in csvreader:\n",
    "        \n",
    "        query = \"\"\"INSERT INTO song_data_by_session (artist_name, user_first_name,\n",
    "            gender, session_item_number, user_last_name,\n",
    "            song_length, account_level, user_location,\n",
    "            session_id, song_title, user_id) \"\"\"\n",
    "        query = query + \"VALUES  (%s, %s, %s, %s, %s, %s, %s, %s, %s, %s, %s)\"\n",
    "        \n",
    "        session.execute(query, (line[0], line[1],\n",
    "            line[2], int(line[3]), line[4],\n",
    "            float(line[5]), line[6], line[7],\n",
    "            int(line[8]), line[9], int(line[10])))"
   ]
  },
  {
   "cell_type": "markdown",
   "metadata": {},
   "source": [
    "#### Do a SELECT to verify that the data have been inserted into each table"
   ]
  },
  {
   "cell_type": "code",
   "execution_count": 10,
   "metadata": {
    "scrolled": true
   },
   "outputs": [
    {
     "name": "stdout",
     "output_type": "stream",
     "text": [
      "Row(artist_name='Faithless', song_title='Music Matters (Mark Knight Dub)', song_length=495.3073)\n"
     ]
    }
   ],
   "source": [
    "## Add in the SELECT statement to verify the data was entered into the table\n",
    "result_set = session.execute(select_statement, (338, 4))\n",
    "\n",
    "for row in result_set:\n",
    "    print (row)"
   ]
  },
  {
   "cell_type": "markdown",
   "metadata": {},
   "source": [
    "### COPY AND REPEAT THE ABOVE THREE CELLS FOR EACH OF THE THREE QUESTIONS"
   ]
  },
  {
   "cell_type": "code",
   "execution_count": 11,
   "metadata": {},
   "outputs": [
    {
     "name": "stdout",
     "output_type": "stream",
     "text": [
      "Row(artist_name='Down To The Bone', song_title=\"Keep On Keepin' On\", user_first_name='Sylvie', user_last_name='Cruz')\n",
      "Row(artist_name='Three Drives', song_title='Greece 2000', user_first_name='Sylvie', user_last_name='Cruz')\n",
      "Row(artist_name='Sebastien Tellier', song_title='Kilometer', user_first_name='Sylvie', user_last_name='Cruz')\n",
      "Row(artist_name='Lonnie Gordon', song_title='Catch You Baby (Steve Pitron & Max Sanna Radio Edit)', user_first_name='Sylvie', user_last_name='Cruz')\n"
     ]
    }
   ],
   "source": [
    "## Query 2: Give me only the following: name of artist, song (sorted by itemInSession) and user (first and last name)\\\n",
    "## for userid = 10, sessionid = 182\n",
    "\n",
    "create_statement =  \"\"\"CREATE TABLE IF NOT EXISTS song_user_data_by_user_and_session_data (artist_name TEXT,\n",
    "        user_first_name TEXT,\n",
    "        gender TEXT,\n",
    "        session_item_number INT,\n",
    "        user_last_name TEXT,\n",
    "        song_length DOUBLE,\n",
    "        account_level TEXT,\n",
    "        user_location TEXT,\n",
    "        session_id INT,\n",
    "        song_title TEXT,\n",
    "        user_id INT,\n",
    "        PRIMARY KEY ((user_id, session_id), session_item_number)) \"\"\"\n",
    "session.execute(create_statement)\n",
    "\n",
    "with open(file, encoding = 'utf8') as f:\n",
    "    csvreader = csv.reader(f)\n",
    "    next(csvreader) # skip header\n",
    "    for line in csvreader:\n",
    "        \n",
    "        query = \"\"\"INSERT INTO song_user_data_by_user_and_session_data (artist_name, user_first_name,\n",
    "            gender, session_item_number, user_last_name,\n",
    "            song_length, account_level, user_location,\n",
    "            session_id, song_title, user_id) \"\"\"\n",
    "        query = query + \" VALUES  (%s, %s, %s, %s, %s, %s, %s, %s, %s, %s, %s)\"\n",
    "        \n",
    "        session.execute(query, (line[0], line[1],\n",
    "            line[2], int(line[3]), line[4],\n",
    "            float(line[5]), line[6], line[7],\n",
    "            int(line[8]), line[9], int(line[10])))\n",
    "            \n",
    "\n",
    "select_statement = \"SELECT artist_name, song_title, user_first_name, user_last_name FROM song_user_data_by_user_and_session_data WHERE user_id = %s AND session_id = %s\"\n",
    "\n",
    "result_set = session.execute(select_statement, (10, 182))\n",
    "\n",
    "for row in result_set:\n",
    "    print (row)   "
   ]
  },
  {
   "cell_type": "code",
   "execution_count": 14,
   "metadata": {},
   "outputs": [
    {
     "name": "stdout",
     "output_type": "stream",
     "text": [
      "Row(user_first_name='Jacqueline', user_last_name='Lynch')\n",
      "Row(user_first_name='Tegan', user_last_name='Levine')\n",
      "Row(user_first_name='Sara', user_last_name='Johnson')\n"
     ]
    }
   ],
   "source": [
    "## Query 3: Give me every user name (first and last) in my music app history who listened to the song 'All Hands Against His Own'\n",
    "create_statement =  \"\"\"CREATE TABLE IF NOT EXISTS user_data_by_song_title (artist_name TEXT,\n",
    "        user_first_name TEXT,\n",
    "        gender TEXT,\n",
    "        session_item_number INT,\n",
    "        user_last_name TEXT,\n",
    "        song_length DOUBLE,\n",
    "        account_level TEXT,\n",
    "        user_location TEXT,\n",
    "        session_id INT,\n",
    "        song_title TEXT,\n",
    "        user_id INT,\n",
    "        PRIMARY KEY ((song_title), user_id)) \"\"\"\n",
    "session.execute(create_statement)\n",
    "\n",
    "\n",
    "with open(file, encoding = 'utf8') as f:\n",
    "    csvreader = csv.reader(f)\n",
    "    next(csvreader) # skip header\n",
    "    for line in csvreader:\n",
    "        \n",
    "        query = \"\"\"INSERT INTO user_data_by_song_title (artist_name, user_first_name,\n",
    "            gender, session_item_number, user_last_name,\n",
    "            song_length, account_level, user_location,\n",
    "            session_id, song_title, user_id) \"\"\"\n",
    "        query = query + \" VALUES  (%s, %s, %s, %s, %s, %s, %s, %s, %s, %s, %s)\"\n",
    "        \n",
    "        session.execute(query, (line[0], line[1],\n",
    "            line[2], int(line[3]), line[4],\n",
    "            float(line[5]), line[6], line[7],\n",
    "            int(line[8]), line[9], int(line[10])))\n",
    "\n",
    "select_statement = \"SELECT user_first_name, user_last_name FROM user_data_by_song_title WHERE song_title = %s\"\n",
    "\n",
    "result_set = session.execute(select_statement, ('All Hands Against His Own', ))\n",
    "\n",
    "for row in result_set:\n",
    "    print (row)"
   ]
  },
  {
   "cell_type": "markdown",
   "metadata": {},
   "source": [
    "### Drop the tables before closing out the sessions"
   ]
  },
  {
   "cell_type": "code",
   "execution_count": 15,
   "metadata": {},
   "outputs": [],
   "source": [
    "drop_song_data_by_session =  \"DROP TABLE song_data_by_session\"\n",
    "song_user_data_by_user_and_session_data = \"DROP TABLE song_user_data_by_user_and_session_data\"\n",
    "user_data_by_song_title = \"DROP TABLE user_data_by_song_title\""
   ]
  },
  {
   "cell_type": "code",
   "execution_count": 16,
   "metadata": {},
   "outputs": [
    {
     "data": {
      "text/plain": [
       "<cassandra.cluster.ResultSet at 0x7ff075b10e80>"
      ]
     },
     "execution_count": 16,
     "metadata": {},
     "output_type": "execute_result"
    }
   ],
   "source": [
    "session.execute(drop_song_data_by_session)\n",
    "session.execute(song_user_data_by_user_and_session_data)\n",
    "session.execute(user_data_by_song_title)"
   ]
  },
  {
   "cell_type": "markdown",
   "metadata": {},
   "source": [
    "### Close the session and cluster connection¶"
   ]
  },
  {
   "cell_type": "code",
   "execution_count": 17,
   "metadata": {},
   "outputs": [],
   "source": [
    "session.shutdown()\n",
    "cluster.shutdown()"
   ]
  },
  {
   "cell_type": "code",
   "execution_count": 18,
   "metadata": {},
   "outputs": [
    {
     "name": "stdout",
     "output_type": "stream",
     "text": [
      "Process Ended\n"
     ]
    }
   ],
   "source": [
    "print('Process Ended')"
   ]
  },
  {
   "cell_type": "code",
   "execution_count": null,
   "metadata": {},
   "outputs": [],
   "source": []
  }
 ],
 "metadata": {
  "kernelspec": {
   "display_name": "Python 3",
   "language": "python",
   "name": "python3"
  },
  "language_info": {
   "codemirror_mode": {
    "name": "ipython",
    "version": 3
   },
   "file_extension": ".py",
   "mimetype": "text/x-python",
   "name": "python",
   "nbconvert_exporter": "python",
   "pygments_lexer": "ipython3",
   "version": "3.6.3"
  }
 },
 "nbformat": 4,
 "nbformat_minor": 2
}
